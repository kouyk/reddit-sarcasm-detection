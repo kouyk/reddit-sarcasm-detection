{
 "cells": [
  {
   "cell_type": "markdown",
   "source": [
    "## Download all needed files"
   ],
   "metadata": {
    "collapsed": false
   }
  },
  {
   "cell_type": "code",
   "execution_count": 8,
   "metadata": {
    "collapsed": true
   },
   "outputs": [
    {
     "name": "stdout",
     "output_type": "stream",
     "text": [
      "--2021-09-30 23:43:33--  https://nlp.cs.princeton.edu/SARC/0.0/key.csv\r\n",
      "Resolving nlp.cs.princeton.edu (nlp.cs.princeton.edu)... 128.112.136.61\r\n",
      "Connecting to nlp.cs.princeton.edu (nlp.cs.princeton.edu)|128.112.136.61|:443... connected.\r\n",
      "HTTP request sent, awaiting response... 200 OK\r\n",
      "Length: 80 [text/csv]\r\n",
      "Saving to: ‘dataset/key.tsv’\r\n",
      "\r\n",
      "dataset/key.tsv     100%[===================>]      80  --.-KB/s    in 0s      \r\n",
      "\r\n",
      "2021-09-30 23:43:34 (87.1 MB/s) - ‘dataset/key.tsv’ saved [80/80]\r\n",
      "\r\n",
      "--2021-09-30 23:43:34--  https://nlp.cs.princeton.edu/SARC/0.0/main/train-balanced.csv.bz2\r\n",
      "Resolving nlp.cs.princeton.edu (nlp.cs.princeton.edu)... 128.112.136.61\r\n",
      "Connecting to nlp.cs.princeton.edu (nlp.cs.princeton.edu)|128.112.136.61|:443... connected.\r\n",
      "HTTP request sent, awaiting response... 200 OK\r\n",
      "Length: 81268788 (78M) [application/x-bzip2]\r\n",
      "Saving to: ‘dataset/train-balanced.csv.bz2’\r\n",
      "\r\n",
      "train-balanced.csv. 100%[===================>]  77.50M  13.3MB/s    in 7.4s    \r\n",
      "\r\n",
      "2021-09-30 23:43:42 (10.5 MB/s) - ‘dataset/train-balanced.csv.bz2’ saved [81268788/81268788]\r\n",
      "\r\n"
     ]
    }
   ],
   "source": [
    "!wget \"https://nlp.cs.princeton.edu/SARC/0.0/key.csv\" -O 'dataset/key.tsv'\n",
    "!wget \"https://nlp.cs.princeton.edu/SARC/0.0/main/train-balanced.csv.bz2\" --directory-prefix 'dataset/'\n",
    "!wget \"https://nlp.cs.princeton.edu/SARC/0.0/main/test-balanced.csv.bz2\" --directory-prefix 'dataset/'\n",
    "!wget \"https://nlp.cs.princeton.edu/SARC/0.0/main/test-unbalanced.csv.bz2\" --directory-prefix 'dataset/'"
   ]
  },
  {
   "cell_type": "markdown",
   "source": [
    "## Prepare the columns since it is not embedded in the tsv"
   ],
   "metadata": {
    "collapsed": false
   }
  },
  {
   "cell_type": "code",
   "execution_count": 2,
   "outputs": [],
   "source": [
    "with open('dataset/key.tsv', 'r') as filename:\n",
    "    line = filename.readline()\n",
    "    line = line.rstrip('\\n')\n",
    "    column_names = line.split('\\t')"
   ],
   "metadata": {
    "collapsed": false,
    "pycharm": {
     "name": "#%%\n"
    }
   }
  },
  {
   "cell_type": "code",
   "execution_count": 3,
   "outputs": [
    {
     "name": "stdout",
     "output_type": "stream",
     "text": [
      "['label', 'comment', 'author', 'subreddit', 'score', 'ups', 'downs', 'date', 'created_utc', 'parent_comment']\n"
     ]
    }
   ],
   "source": [
    "print(column_names)"
   ],
   "metadata": {
    "collapsed": false,
    "pycharm": {
     "name": "#%%\n"
    }
   }
  },
  {
   "cell_type": "markdown",
   "source": [
    "## Preprocess the files and turn them into usable CSVs"
   ],
   "metadata": {
    "collapsed": false,
    "pycharm": {
     "name": "#%% md\n"
    }
   }
  },
  {
   "cell_type": "code",
   "execution_count": 4,
   "outputs": [],
   "source": [
    "import pandas as pd\n",
    "\n",
    "def preprocess_file(filename: str):\n",
    "    df = pd.read_csv(filename, sep='\\t', header=None, names=column_names)\n",
    "    df.dropna(subset=['comment'], inplace=True)\n",
    "    df.to_csv(filename.rstrip('.bz2'), index=False)"
   ],
   "metadata": {
    "collapsed": false,
    "pycharm": {
     "name": "#%%\n"
    }
   }
  },
  {
   "cell_type": "code",
   "execution_count": 5,
   "outputs": [],
   "source": [
    "import os\n",
    "\n",
    "for filename in os.listdir('dataset/'):\n",
    "    if filename.endswith('.bz2'):\n",
    "        filename = os.path.join('dataset', filename)\n",
    "    else:\n",
    "        continue\n",
    "\n",
    "    preprocess_file(filename)"
   ],
   "metadata": {
    "collapsed": false,
    "pycharm": {
     "name": "#%%\n"
    }
   }
  },
  {
   "cell_type": "code",
   "execution_count": 6,
   "outputs": [],
   "source": [
    "train = pd.read_csv('dataset/train-balanced.csv')"
   ],
   "metadata": {
    "collapsed": false,
    "pycharm": {
     "name": "#%%\n"
    }
   }
  },
  {
   "cell_type": "code",
   "execution_count": 11,
   "outputs": [
    {
     "data": {
      "text/plain": "0           3\n1          14\n2          19\n3          12\n4           7\n           ..\n1010768    16\n1010769     6\n1010770    11\n1010771    11\n1010772    13\nName: comment, Length: 1010773, dtype: int64"
     },
     "execution_count": 11,
     "metadata": {},
     "output_type": "execute_result"
    }
   ],
   "source": [
    "train.comment.str.split().apply(len)"
   ],
   "metadata": {
    "collapsed": false,
    "pycharm": {
     "name": "#%%\n"
    }
   }
  },
  {
   "cell_type": "code",
   "execution_count": 20,
   "outputs": [
    {
     "data": {
      "text/plain": "                                                   comment\n0                                               NC and NH.\n1        You do know west teams play against west teams...\n2        They were underdogs earlier today, but since G...\n3        This meme isn't funny none of the \"new york ni...\n4                          I could use one of those tools.\n...                                                    ...\n1010768  I'm sure that Iran and N. Korea have the techn...\n1010769                 whatever you do, don't vote green!\n1010770  Perhaps this is an atheist conspiracy to make ...\n1010771  The Slavs got their own country - it is called...\n1010772  values, as in capitalism .. there is good mone...\n\n[1010773 rows x 1 columns]",
      "text/html": "<div>\n<style scoped>\n    .dataframe tbody tr th:only-of-type {\n        vertical-align: middle;\n    }\n\n    .dataframe tbody tr th {\n        vertical-align: top;\n    }\n\n    .dataframe thead th {\n        text-align: right;\n    }\n</style>\n<table border=\"1\" class=\"dataframe\">\n  <thead>\n    <tr style=\"text-align: right;\">\n      <th></th>\n      <th>comment</th>\n    </tr>\n  </thead>\n  <tbody>\n    <tr>\n      <th>0</th>\n      <td>NC and NH.</td>\n    </tr>\n    <tr>\n      <th>1</th>\n      <td>You do know west teams play against west teams...</td>\n    </tr>\n    <tr>\n      <th>2</th>\n      <td>They were underdogs earlier today, but since G...</td>\n    </tr>\n    <tr>\n      <th>3</th>\n      <td>This meme isn't funny none of the \"new york ni...</td>\n    </tr>\n    <tr>\n      <th>4</th>\n      <td>I could use one of those tools.</td>\n    </tr>\n    <tr>\n      <th>...</th>\n      <td>...</td>\n    </tr>\n    <tr>\n      <th>1010768</th>\n      <td>I'm sure that Iran and N. Korea have the techn...</td>\n    </tr>\n    <tr>\n      <th>1010769</th>\n      <td>whatever you do, don't vote green!</td>\n    </tr>\n    <tr>\n      <th>1010770</th>\n      <td>Perhaps this is an atheist conspiracy to make ...</td>\n    </tr>\n    <tr>\n      <th>1010771</th>\n      <td>The Slavs got their own country - it is called...</td>\n    </tr>\n    <tr>\n      <th>1010772</th>\n      <td>values, as in capitalism .. there is good mone...</td>\n    </tr>\n  </tbody>\n</table>\n<p>1010773 rows × 1 columns</p>\n</div>"
     },
     "execution_count": 20,
     "metadata": {},
     "output_type": "execute_result"
    }
   ],
   "source": [
    "train[['comment', 'none'] if 'none' in train.columns else ['comment']]"
   ],
   "metadata": {
    "collapsed": false,
    "pycharm": {
     "name": "#%%\n"
    }
   }
  }
 ],
 "metadata": {
  "kernelspec": {
   "name": "sarcasm",
   "language": "python",
   "display_name": "sarcasm"
  },
  "language_info": {
   "codemirror_mode": {
    "name": "ipython",
    "version": 2
   },
   "file_extension": ".py",
   "mimetype": "text/x-python",
   "name": "python",
   "nbconvert_exporter": "python",
   "pygments_lexer": "ipython2",
   "version": "2.7.6"
  }
 },
 "nbformat": 4,
 "nbformat_minor": 0
}